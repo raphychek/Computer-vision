{
 "cells": [
  {
   "cell_type": "markdown",
   "metadata": {},
   "source": [
    "# TP2 Mean Shift"
   ]
  },
  {
   "cell_type": "markdown",
   "metadata": {},
   "source": [
    "Read, understand, and complete and run the following notebook. You must return the completed notebook, including your answers and illustrations (you may need to add cells to write your code or comments). \n",
    "\n",
    "Return your work by e-mail using a single file (ipynb or zip) with the format 'introvis18_tp2_yourname.ipynb'\n"
   ]
  },
  {
   "cell_type": "markdown",
   "metadata": {},
   "source": [
    "## 0. Imports"
   ]
  },
  {
   "cell_type": "code",
   "execution_count": 1,
   "metadata": {},
   "outputs": [],
   "source": [
    "import numpy as np \n",
    "# this is the key library for manipulating arrays. Use the online ressources! http://www.numpy.org/\n",
    "\n",
    "import matplotlib.pyplot as plt \n",
    "# used to read images, display and plot http://matplotlib.org/api/pyplot_api.html . \n",
    "#You can also check this simple intro to using ipython notebook with images https://matplotlib.org/users/image_tutorial.html\n",
    "\n",
    "%matplotlib inline \n",
    "# to display directly in the notebook\n",
    "\n",
    "import scipy.ndimage as ndimage\n",
    "# one of several python libraries for image procession\n",
    "\n",
    "plt.rcParams['image.cmap'] = 'gray' \n",
    "# by default, the grayscale images are displayed with the jet colormap: use grayscale instead\n",
    "\n",
    "from skimage.color import rgb2lab,lab2rgb\n",
    "# for colorspace conversions\n",
    "\n",
    "from scipy.spatial.distance import cdist"
   ]
  },
  {
   "cell_type": "code",
   "execution_count": 2,
   "metadata": {},
   "outputs": [],
   "source": [
    "# code found on http://sametmax.com/saffranchir-des-doublons-dun-iterable-en-python/\n",
    "def skip_duplicates(iterable, key=lambda x: x):\n",
    "    fingerprints = set()\n",
    "    for x in iterable:\n",
    "        fingerprint = key(x)\n",
    "        if fingerprint not in fingerprints:\n",
    "            yield x\n",
    "            fingerprints.add(fingerprint)"
   ]
  },
  {
   "cell_type": "markdown",
   "metadata": {},
   "source": [
    "## 1. Mean shift"
   ]
  },
  {
   "cell_type": "markdown",
   "metadata": {},
   "source": [
    "In this section, we will implement Mean Shift and test is on simple synthetic data (i.e. points you will sample from a probability distribution with known density - see below)."
   ]
  },
  {
   "cell_type": "markdown",
   "metadata": {},
   "source": [
    "1: Generate a random vector of 100 2D points 'data1' with 50 points sampled from a Gaussian distribution of variance 1 centered in (0,0) and 50 points sampled from a Gaussian distribution of variance 1 centered in (2,1). Plot your points using the 'plt.scatter' function. This 'data' vector will be the synthetic data you will try to cluster, and for which the algorithm should manage to separate the point coming from each of the two Gaussians. Repeat to create a vector 'data2' with the center of the second Gaussian in (3,3). Which will be the easiest data vector to cluster? Test both in the following experiments."
   ]
  },
  {
   "cell_type": "code",
   "execution_count": 3,
   "metadata": {},
   "outputs": [
    {
     "data": {
      "text/plain": [
       "<matplotlib.collections.PathCollection at 0x106908f98>"
      ]
     },
     "execution_count": 3,
     "metadata": {},
     "output_type": "execute_result"
    },
    {
     "data": {
      "image/png": "[encoded data removed]",
      "text/plain": [
       "<matplotlib.figure.Figure at 0x1a0a487668>"
      ]
     },
     "metadata": {},
     "output_type": "display_data"
    }
   ],
   "source": [
    "cov1=[[1,0],[0,1]]\n",
    "cov2=[[1,0],[0,1]]\n",
    "\n",
    "A=np.random.multivariate_normal([0,0], cov1,50)\n",
    "B=np.random.multivariate_normal([2,1], cov2,50)\n",
    "\n",
    "data1=np.concatenate((A,B)) #the 50 first points are from the first gaussian, the others from the second one\n",
    "\n",
    "plt.scatter([i[0] for i in data1[:50]],[i[1] for i in data1[:50]])\n",
    "plt.scatter([i[0] for i in data1[50:]],[i[1] for i in data1[50:]])"
   ]
  },
  {
   "cell_type": "code",
   "execution_count": 4,
   "metadata": {},
   "outputs": [
    {
     "data": {
      "text/plain": [
       "<matplotlib.collections.PathCollection at 0x1a0a4876d8>"
      ]
     },
     "execution_count": 4,
     "metadata": {},
     "output_type": "execute_result"
    },
    {
     "data": {
      "image/png": "[encoded data removed]",
      "text/plain": [
       "<matplotlib.figure.Figure at 0x106879b00>"
      ]
     },
     "metadata": {},
     "output_type": "display_data"
    }
   ],
   "source": [
    "C=np.random.multivariate_normal([0,0], cov1,50)\n",
    "D=np.random.multivariate_normal([3,3], cov2,50)\n",
    "\n",
    "data2=np.concatenate((C,D)) #the 50 first points are from the first gaussian, the others from the second one\n",
    "\n",
    "plt.scatter([i[0] for i in data2[:50]],[i[1] for i in data2[:50]])\n",
    "plt.scatter([i[0] for i in data2[50:]],[i[1] for i in data2[50:]])"
   ]
  },
  {
   "cell_type": "code",
   "execution_count": 5,
   "metadata": {},
   "outputs": [],
   "source": [
    "# The easiest set to cluster will be the second one : as the center of the gaussians are furhter \n",
    "# from each other in the second situation, the convex hull of their dots are more probable\n",
    "# to be with a null intersection"
   ]
  },
  {
   "cell_type": "markdown",
   "metadata": {},
   "source": [
    "2: We will segment images using a different distance parameter for space and color. For this reason, we will use a d dimensionnal vector 'sigma' as a parameter for all our mean-shift functions. It defines a scale for each dimension. What would be a meaningful parameter sigma for each of the synthetic data sets (data1 and data2)?"
   ]
  },
  {
   "cell_type": "code",
   "execution_count": 6,
   "metadata": {},
   "outputs": [],
   "source": [
    "# Sigma can be interpreted as the radius of the ball centered on a point of given coordinate, \n",
    "# ball in which the mean will be calculated.\n",
    "# Thereby, the higher sigma is, the less cluster we'll have."
   ]
  },
  {
   "cell_type": "markdown",
   "metadata": {},
   "source": [
    "3: Implement the function MS_step which takes as input a vector of all the data point 'data', a starting point 'x' and the standard deviations 'sigma' and returns the updated position of the point 'x' after one step of the mean-shift algorithm. Test it on your synthetic data and visualize the result.\n",
    "\n",
    "Be cautious: the formula given in the lecture (slide 94) is only valid in the isotropic case (why?). In the anisotropic case, you can either redo the derivation, or simply scale the components to come back to the isotropic case."
   ]
  },
  {
   "cell_type": "code",
   "execution_count": 7,
   "metadata": {},
   "outputs": [],
   "source": [
    "def distance(x,y,sigma):\n",
    "    return np.linalg.norm((x-y)/sigma)\n",
    "\n",
    "def kernel(x,y,sigma):\n",
    "    return np.exp(-0.5*distance(x,y,sigma))\n",
    "\n",
    "def MS_step(data,x,sigma):\n",
    "    C = cdist(x,data)\n",
    "    C = np.exp(-1/2*(cdist(x/sigma,data/sigma)))\n",
    "    Ones = np.ones(data.shape[0])\n",
    "    sumD = np.dot(C,Ones)\n",
    "    sumN = np.dot(C,data)\n",
    "    \n",
    "    return np.array([sumN[i]/sumD[i] for i in range(data.shape[0])])"
   ]
  },
  {
   "cell_type": "markdown",
   "metadata": {},
   "source": [
    "4: Implement the function MS_point which iterates MS_step until convergence (e.g. the estimate changes by less than 0.01). Test it on your synthetic data and visualize the results."
   ]
  },
  {
   "cell_type": "code",
   "execution_count": 8,
   "metadata": {},
   "outputs": [],
   "source": [
    "def MS_point(data,x,sigma):\n",
    "    eps=1\n",
    "    xc=x\n",
    "    while eps > 0.001:\n",
    "        xn=MS_step(data,xc,sigma)\n",
    "        eps=distance(xn,xc,sigma)\n",
    "        xc=xn\n",
    "    return xc"
   ]
  },
  {
   "cell_type": "markdown",
   "metadata": {},
   "source": [
    "5: Implement the MS function, which implements the full mean shift algorithm by iterating MS_point on all the points, and merging modes which distance normalized by sigma -- sqrt[sum[((x-y)/sigma)**2) ]] -- is smaller than 0.5 . It must return a list of the modes and a label (corresponding to a mode) for each point."
   ]
  },
  {
   "cell_type": "code",
   "execution_count": 9,
   "metadata": {},
   "outputs": [
    {
     "name": "stdout",
     "output_type": "stream",
     "text": [
      "5 clusters\n",
      "[[0.]\n",
      " [0.]\n",
      " [1.]\n",
      " [0.]\n",
      " [0.]\n",
      " [0.]\n",
      " [0.]\n",
      " [0.]\n",
      " [0.]\n",
      " [0.]\n",
      " [0.]\n",
      " [1.]\n",
      " [0.]\n",
      " [0.]\n",
      " [0.]\n",
      " [0.]\n",
      " [0.]\n",
      " [0.]\n",
      " [1.]\n",
      " [0.]\n",
      " [0.]\n",
      " [0.]\n",
      " [0.]\n",
      " [0.]\n",
      " [1.]\n",
      " [1.]\n",
      " [0.]\n",
      " [1.]\n",
      " [1.]\n",
      " [0.]\n",
      " [1.]\n",
      " [0.]\n",
      " [0.]\n",
      " [0.]\n",
      " [0.]\n",
      " [1.]\n",
      " [0.]\n",
      " [0.]\n",
      " [0.]\n",
      " [1.]\n",
      " [0.]\n",
      " [1.]\n",
      " [0.]\n",
      " [0.]\n",
      " [1.]\n",
      " [0.]\n",
      " [0.]\n",
      " [0.]\n",
      " [1.]\n",
      " [1.]\n",
      " [1.]\n",
      " [1.]\n",
      " [1.]\n",
      " [1.]\n",
      " [0.]\n",
      " [1.]\n",
      " [0.]\n",
      " [1.]\n",
      " [1.]\n",
      " [1.]\n",
      " [1.]\n",
      " [1.]\n",
      " [1.]\n",
      " [1.]\n",
      " [1.]\n",
      " [1.]\n",
      " [1.]\n",
      " [1.]\n",
      " [1.]\n",
      " [2.]\n",
      " [1.]\n",
      " [1.]\n",
      " [1.]\n",
      " [1.]\n",
      " [1.]\n",
      " [1.]\n",
      " [3.]\n",
      " [1.]\n",
      " [1.]\n",
      " [1.]\n",
      " [1.]\n",
      " [1.]\n",
      " [1.]\n",
      " [1.]\n",
      " [1.]\n",
      " [1.]\n",
      " [4.]\n",
      " [1.]\n",
      " [1.]\n",
      " [1.]\n",
      " [1.]\n",
      " [1.]\n",
      " [1.]\n",
      " [1.]\n",
      " [1.]\n",
      " [1.]\n",
      " [1.]\n",
      " [1.]\n",
      " [1.]\n",
      " [1.]]\n"
     ]
    },
    {
     "data": {
      "image/png": "[encoded data removed]",
      "text/plain": [
       "<matplotlib.figure.Figure at 0x1a134fae48>"
      ]
     },
     "metadata": {},
     "output_type": "display_data"
    },
    {
     "data": {
      "text/plain": [
       "<matplotlib.collections.PathCollection at 0x1a135ba940>"
      ]
     },
     "execution_count": 9,
     "metadata": {},
     "output_type": "execute_result"
    },
    {
     "data": {
      "image/png": "[encoded data removed]",
      "text/plain": [
       "<matplotlib.figure.Figure at 0x1a135aeba8>"
      ]
     },
     "metadata": {},
     "output_type": "display_data"
    }
   ],
   "source": [
    "def MS(data,sigma):\n",
    "\n",
    "    labelz=np.zeros([data.shape[0],1])\n",
    "    modez=np.zeros([0,data.shape[1]])\n",
    "    labels=[i for i in range(data.shape[0])]\n",
    "    modes=[]\n",
    "    \n",
    "    # evaluate the modes\n",
    "    xc=MS_point(data,data,sigma)\n",
    "        \n",
    "    \n",
    "    # merge the points and create the labels and modes\n",
    "    for i in range(len(xc)):\n",
    "        for j in range(i,len(xc)):\n",
    "            if distance(xc[i],xc[j],sigma)<0.5:\n",
    "                labels[j]=labels[i]\n",
    "                xc[j]=xc[i]\n",
    "    \n",
    "    \n",
    "    \n",
    "    labelo=list(skip_duplicates(labels))\n",
    "    for i in labelo:\n",
    "        modes.append(xc[labels.index(i)])\n",
    "    \n",
    "    modez=np.array(modes)\n",
    "    \n",
    "    compteur=0\n",
    "    for i in labelo:\n",
    "        for j in range(len(labels)):\n",
    "            if labels[j]==i:\n",
    "                labels[j]=compteur\n",
    "        compteur+=1\n",
    "    \n",
    "    for i in range(len(labels)):\n",
    "        labelz[i]=labels[i]\n",
    "    \n",
    "    return labelz,modes\n",
    "\n",
    "labels,modes=MS(data1,[0.1,0.2])\n",
    "print(len(modes),\"clusters\")\n",
    "print(labels)\n",
    "plt.scatter([i[0] for i in data1[:50]],[i[1] for i in data1[:50]])\n",
    "plt.scatter([i[0] for i in data1[50:]],[i[1] for i in data1[50:]])\n",
    "plt.show()\n",
    "plt.scatter([modes[i][0] for i in range (len(modes))],[modes[i][1] for i in range (len(modes))] )"
   ]
  },
  {
   "cell_type": "markdown",
   "metadata": {},
   "source": [
    "## 2. Segmentation"
   ]
  },
  {
   "cell_type": "markdown",
   "metadata": {},
   "source": [
    "1: Download [this small image](http://imagine.enpc.fr/~aubrym/lectures/introvis17/legumes_small.jpg), load it and convert it to the Lab colorspace. Why is it necessary to change colorspace? What are the range of the colorvalues in Lab? "
   ]
  },
  {
   "cell_type": "code",
   "execution_count": 10,
   "metadata": {},
   "outputs": [],
   "source": [
    "rgb = plt.imread('legumes_small.jpg')\n",
    "lab = rgb2lab(rgb)\n",
    "\n",
    "# Lab colorspace because is more representative of the reality. It is also easier to cluster in Lab Colorspace.\n",
    "\n",
    "# L (luminosity) is in [0,100]\n",
    "# a is in [-35,50]\n",
    "# b is in [-23,52]"
   ]
  },
  {
   "cell_type": "markdown",
   "metadata": {},
   "source": [
    "2: In Mean Shift segmentation, all pixels in the image will be treated as data points including both their color and position in the image. Convert the (N,M,3) image into an (NM,5) array incuding color and position information for each point. What would be a meaningful value for sigma?\n",
    "\n",
    "Tip: use the np.meshgrid function"
   ]
  },
  {
   "cell_type": "code",
   "execution_count": 11,
   "metadata": {},
   "outputs": [],
   "source": [
    "arr = np.zeros((lab.shape[0],lab.shape[1],5))\n",
    "\n",
    "def nm3_to_nm5(I):\n",
    "    (n,m,_) = I.shape\n",
    "    res = np.zeros((n*m,5))\n",
    "    for i in range(n):\n",
    "        for j in range(m):\n",
    "            res[i*m+j] = [i,j,I[i,j][0],I[i,j][1],I[i,j][2]]\n",
    "    return res\n",
    "\n",
    "# A meaningful value for sigma will \n",
    "# be with sigma_x = sigma_y and with a value of sigma_i depending on the variance of i with i in [L,a,b]"
   ]
  },
  {
   "cell_type": "markdown",
   "metadata": {
    "collapsed": true
   },
   "source": [
    "3: Use the MS function from the previous section to compute a meaningful segmentation of the image. Visualize the results as an image by replacing the color values of the pixels associated to each mode by the color of the mode."
   ]
  },
  {
   "cell_type": "code",
   "execution_count": 12,
   "metadata": {},
   "outputs": [
    {
     "name": "stdout",
     "output_type": "stream",
     "text": [
      "165 clusters\n"
     ]
    }
   ],
   "source": [
    "img=nm3_to_nm5(lab)\n",
    "\n",
    "sigma = [0.5,0.5,15,15,15]\n",
    "\n",
    "labels, modes = MS(img,sigma)\n",
    "\n",
    "print(len(modes),\"clusters\")\n",
    "\n",
    "#print(modes)"
   ]
  },
  {
   "cell_type": "code",
   "execution_count": 13,
   "metadata": {},
   "outputs": [
    {
     "name": "stdout",
     "output_type": "stream",
     "text": [
      "165 clusters\n"
     ]
    },
    {
     "data": {
      "image/png": "[encoded data removed]",
      "text/plain": [
       "<matplotlib.figure.Figure at 0x1a1369aa90>"
      ]
     },
     "metadata": {},
     "output_type": "display_data"
    }
   ],
   "source": [
    "(n,m,_)=lab.shape\n",
    "img2 = np.zeros((n,m,3))\n",
    "print(len(modes), \"clusters\")\n",
    "for i in range(n-1):\n",
    "    for j in range(m-1):\n",
    "        indice = int(labels[i*m+j])\n",
    "        val = modes[indice][2:]\n",
    "        img2[i,j] = val\n",
    "\n",
    "img2 = lab2rgb(img2)\n",
    "plt.imshow(img2)\n",
    "plt.show()\n",
    "plt.imsave(\"legume_small_MS.png\",img2)"
   ]
  },
  {
   "cell_type": "code",
   "execution_count": null,
   "metadata": {},
   "outputs": [],
   "source": []
  },
  {
   "cell_type": "code",
   "execution_count": null,
   "metadata": {},
   "outputs": [],
   "source": []
  }
 ],
 "metadata": {
  "kernelspec": {
   "display_name": "Python 3",
   "language": "python",
   "name": "python3"
  },
  "language_info": {
   "codemirror_mode": {
    "name": "ipython",
    "version": 3
   },
   "file_extension": ".py",
   "mimetype": "text/x-python",
   "name": "python",
   "nbconvert_exporter": "python",
   "pygments_lexer": "ipython3",
   "version": "3.7.1"
  }
 },
 "nbformat": 4,
 "nbformat_minor": 1
}
